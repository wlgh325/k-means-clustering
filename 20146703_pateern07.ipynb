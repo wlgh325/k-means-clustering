{
 "cells": [
  {
   "cell_type": "markdown",
   "metadata": {},
   "source": [
    "# 20146703 박지호"
   ]
  },
  {
   "cell_type": "markdown",
   "metadata": {},
   "source": [
    "## Assignment 7"
   ]
  },
  {
   "cell_type": "markdown",
   "metadata": {},
   "source": [
    "input으로 image를 하나 선택, k-means algorithm을 적용. 클러스터의 수와 intensity energy와 spatial energy 사이의 trade-off 고려\n",
    "\n",
    "object function은 다음과 같다\n",
    "\n",
    "$$ \\sum_k \\sum_\\{ x \\in I(k) \\} [ \\| f(x) - m_k \\|^2 + a * \\| x - c_k \\|^2 ] $$\n",
    "\n",
    "l(k): cluster k에 속하는 x의 index set\n",
    "\n",
    "m_k: cluster k에 대한 image intensity의 centroid\n",
    "\n",
    "c_k: cluster k에 대한 spatial location의 centroid\n",
    "\n",
    "a: image intensity와 spatial location 사이의 중요성을 결정\n",
    "\n",
    "1. 클러스터링된 결과를 visualization하기 (k를 다양하게 해보기, 클러스터마다 centroid color를 이용해서\n",
    "\n",
    "2. intensity energy graph와 spatial energy graph를 visualization하기"
   ]
  },
  {
   "cell_type": "markdown",
   "metadata": {},
   "source": [
    "# Import python module"
   ]
  },
  {
   "cell_type": "code",
   "execution_count": 103,
   "metadata": {},
   "outputs": [],
   "source": [
    "# module import 하기\n",
    "\n",
    "import matplotlib.pyplot as plt\n",
    "import numpy as np\n",
    "import math\n",
    "import random\n",
    "import time\n",
    "from PIL import Image"
   ]
  },
  {
   "cell_type": "markdown",
   "metadata": {},
   "source": [
    "# - spatial location function -"
   ]
  },
  {
   "cell_type": "markdown",
   "metadata": {},
   "source": [
    "## inspect duplicate centroid"
   ]
  },
  {
   "cell_type": "code",
   "execution_count": 38,
   "metadata": {},
   "outputs": [],
   "source": [
    "def inspect_duplicate_centroid_L2(centroid_x, centroid_y, cluster_num):\n",
    "    while True:\n",
    "        flag = 0\n",
    "        flag_x = []\n",
    "        flag_y = []\n",
    "        for i in range(0, cluster_num):\n",
    "            for j in range(i+1, cluster_num):\n",
    "                if abs(centroid_x[i] - centroid_x[j]) <= 0.5:\n",
    "                    flag_x.append([i,j])\n",
    "\n",
    "        for i in range(0, cluster_num):\n",
    "            for j in range(i+1, cluster_num):\n",
    "                if abs(centroid_y[i] - centroid_y[j]) <= 0.5:\n",
    "                    flag_y.append([i,j])\n",
    "\n",
    "        for x in flag_x:\n",
    "            for y in flag_y:\n",
    "                if x == y:\n",
    "                    centroid_x[x[0]] -= 0.5\n",
    "                    centroid_y[y[0]] -= 0.65\n",
    "                    flag -= 1\n",
    "                else:\n",
    "                    flag += 1\n",
    "        \n",
    "        size = len(flag_x) * len(flag_y)\n",
    "        \n",
    "        if flag == size:\n",
    "            break\n",
    "\n",
    "    return centroid_x, centroid_y"
   ]
  },
  {
   "cell_type": "markdown",
   "metadata": {},
   "source": [
    "## L2_norm centroid"
   ]
  },
  {
   "cell_type": "code",
   "execution_count": 119,
   "metadata": {},
   "outputs": [],
   "source": [
    "def cal_centroid_L2(x_matrix, y_matrix, data, numbers) : \n",
    "    row_num = numbers[0]\n",
    "    column_num = numbers[1]\n",
    "    cluster_num = numbers[2]\n",
    "    \n",
    "    centroid_x = np.zeros(cluster_num)\n",
    "    centroid_y = np.zeros(cluster_num)\n",
    "    count = np.zeros(cluster_num)\n",
    "    \n",
    "    for i in range(row_num):\n",
    "        for j in range(column_num):\n",
    "            label = int(data[i][j])\n",
    "            centroid_x[label] += x_matrix[i][j]\n",
    "            centroid_y[label] += y_matrix[i][j]\n",
    "            count[label] += 1\n",
    "\n",
    "    centroid_x /= count\n",
    "    centroid_y /= count\n",
    "        \n",
    "    centroid_x, centroid_y = inspect_duplicate_centroid_L2(centroid_x, centroid_y, cluster_num)\n",
    "    return centroid_x, centroid_y"
   ]
  },
  {
   "cell_type": "markdown",
   "metadata": {},
   "source": [
    "## L2_norm distance"
   ]
  },
  {
   "cell_type": "code",
   "execution_count": 7,
   "metadata": {},
   "outputs": [],
   "source": [
    "def L2_distance(L2_centroid_x, L2_centroid_y, x_matrix, y_matrix, data, numbers):\n",
    "    row_num = numbers[0]\n",
    "    column_num = numbers[1]\n",
    "    cluster_num = numbers[2]\n",
    "\n",
    "    energy=0\n",
    "    \n",
    "    for k in range(row_num):\n",
    "        for j in range(column_num):\n",
    "            L2_result = [0 for _ in range(cluster_num)]\n",
    "            for i in range(cluster_num):\n",
    "                L2_result[i] += pow(L2_centroid_x[i] - x_matrix[k][j], 2)\n",
    "                L2_result[i] += pow(L2_centroid_y[i] - y_matrix[k][j] ,2)\n",
    "            \n",
    "            L2_result_arr = np.asfarray(L2_result[0:cluster_num])\n",
    "            data[k][j] = L2_result_arr.argmin()\n",
    "            energy += L2_result_arr.min()\n",
    "    return energy, data"
   ]
  },
  {
   "cell_type": "markdown",
   "metadata": {},
   "source": [
    "## Initialize random rable for spatial location"
   ]
  },
  {
   "cell_type": "code",
   "execution_count": 90,
   "metadata": {},
   "outputs": [],
   "source": [
    "def init_variable_for_clustering_location(row_num, column_num, cluster_num):\n",
    "    x = []\n",
    "    y = []\n",
    "    \n",
    "    data = np.zeros((row_num, column_num), dtype='i')\n",
    "    \n",
    "    # initialize row matrix\n",
    "    for i in range(row_num):\n",
    "        temp = [i for _ in range(row_num)]\n",
    "        x += temp\n",
    "    \n",
    "    # initialize column matrix\n",
    "    column = []\n",
    "    for i in range(column_num):\n",
    "        temp = [i for _ in range(1)]\n",
    "        column += temp\n",
    "    \n",
    "    for i in range(column_num):\n",
    "        y += column\n",
    "    \n",
    "    '''\n",
    "    # data random labeling\n",
    "    for i in range(row_num):\n",
    "        for j in range(column_num):\n",
    "            label = random.randrange(0, cluster_num)\n",
    "            data[i][j] = label\n",
    "    '''     \n",
    "    \n",
    "    return x, y"
   ]
  },
  {
   "cell_type": "markdown",
   "metadata": {},
   "source": [
    "## update label using L2_norm for spatial location"
   ]
  },
  {
   "cell_type": "code",
   "execution_count": 22,
   "metadata": {},
   "outputs": [],
   "source": [
    "def update_label_for_clustering_location(centroid_x, centroid_y, x_matrix, y_matrix, data, numbers):\n",
    "    # calculate distance centroid to pixel\n",
    "    # update new label\n",
    "    energy, data = L2_distance(centroid_x, centroid_y, x_matrix, y_matrix, data, numbers)\n",
    "    \n",
    "    return energy, data"
   ]
  },
  {
   "cell_type": "code",
   "execution_count": 26,
   "metadata": {},
   "outputs": [],
   "source": [
    "def match_label_and_color(data, numbers):\n",
    "    row_num = numbers[0]\n",
    "    column_num = numbers[1]\n",
    "    cluster_num = numbers[2]\n",
    "    \n",
    "    color_code = []\n",
    "    \n",
    "    clustered_data = np.zeros( (row_num, column_num ,3))\n",
    "    \n",
    "    # Make color code\n",
    "    for i in range(cluster_num):\n",
    "        color = []\n",
    "        for j in range(3):\n",
    "            color.append(random.randrange(0, 255)) \n",
    "        color_code.append(color)\n",
    "    \n",
    "    # Match label and color code\n",
    "    for i in range(row_num):\n",
    "        for j in range(column_num):\n",
    "            label = int(data[i][j])\n",
    "            clustered_data[i][j][0] = color_code[label][0]\n",
    "            clustered_data[i][j][1] = color_code[label][1]\n",
    "            clustered_data[i][j][2] = color_code[label][2]\n",
    "    \n",
    "    # np.float64 -> np.uint8\n",
    "    clustered_data = clustered_data.astype(np.uint8)\n",
    "    return clustered_data"
   ]
  },
  {
   "cell_type": "markdown",
   "metadata": {},
   "source": [
    "## clustering for spatial locaiton"
   ]
  },
  {
   "cell_type": "code",
   "execution_count": 99,
   "metadata": {},
   "outputs": [],
   "source": [
    "def clustering_spatial_location(original_data, width, height, cluster_num):\n",
    "    print(\"Start clustering for spatial location\")\n",
    "    # row의 개수와 column의 개수\n",
    "    row_num = height\n",
    "    column_num = width\n",
    "\n",
    "    # stop learn clustering \n",
    "    max_clustering = 300 \n",
    "    threshold = 0.0001\n",
    "\n",
    "    # x : horizontal list\n",
    "    # y : vertical list\n",
    "    # data : initialized data ( random label )\n",
    "    x, y = init_variable_for_clustering_location(row_num, column_num, cluster_num)\n",
    "\n",
    "    x_array = np.asfarray(x[0:column_num*row_num])\n",
    "    x_matrix = x_array.reshape((row_num, column_num))\n",
    "\n",
    "    y_array = np.asfarray(y[0:column_num*row_num])\n",
    "    y_matrix = y_array.reshape((row_num, column_num))\n",
    "\n",
    "    \n",
    "    max_cluster = 300\n",
    "    \n",
    "    prev_energy = 1000000\n",
    "    energy = 0\n",
    "    all_energy_L2 = []\n",
    "    all_iteration_L2 = []\n",
    "    cluster_count= 0\n",
    "    \n",
    "    \n",
    "    numbers=[row_num, column_num, cluster_num]\n",
    "    \n",
    "    L2_data = original_data.copy()\n",
    "    \n",
    "    \n",
    "    ###########################\n",
    "    # clustering using L2_norm\n",
    "    ###########################\n",
    "    L2_centroid_x, L2_centroid_y = cal_centroid_L2(x_matrix, y_matrix, L2_data, numbers)\n",
    "    \n",
    "    while True:\n",
    "        energy, L2_data = update_label_for_clustering_location(L2_centroid_x, L2_centroid_y, x_matrix, y_matrix, L2_data, numbers)\n",
    "        energy /= row_num*column_num*cluster_num\n",
    "        \n",
    "        all_energy_L2.append(energy)\n",
    "        all_iteration_L2.append(cluster_count)\n",
    "        \n",
    "        # energy의 차이가 아주 작아지면 clustering 멈추기\n",
    "        if prev_energy <= energy*(1 + threshold):\n",
    "            break\n",
    "        elif cluster_count >= max_cluster :\n",
    "            break\n",
    "        else:\n",
    "            prev_energy = energy\n",
    "            cluster_count += 1\n",
    "            energy = 0\n",
    "            # update centroid\n",
    "            L2_centroid_x, L2_centroid_y = cal_centroid_L2(x_matrix, y_matrix, L2_data, numbers)\n",
    "        \n",
    "        # debugging\n",
    "        if cluster_count % 30 == 0:\n",
    "            print(\"clustering: \", cluster_count)\n",
    "   \n",
    "    # match label and color code\n",
    "    L2_mapped_color_data = match_label_and_color(L2_data, numbers)\n",
    "    \n",
    "    ############################\n",
    "    ### plot image and graph\n",
    "    ############################\n",
    "    plt.figure(figsize=(7, 7))\n",
    "    \n",
    "    plt.subplot(2, 1, 1)\n",
    "    plt.imshow(L2_mapped_color_data)\n",
    "    plt.title('image using L2')\n",
    "    \n",
    "\n",
    "    plt.subplot(2,1, 2)\n",
    "    plt.plot(all_iteration_L2, all_energy_L2)\n",
    "    plt.title('energy graph using L2')\n",
    "\n",
    "    \n",
    "    # plot\n",
    "    plt.show()"
   ]
  },
  {
   "cell_type": "markdown",
   "metadata": {},
   "source": [
    "# image intensity function"
   ]
  },
  {
   "cell_type": "markdown",
   "metadata": {},
   "source": [
    "## Random Labeling"
   ]
  },
  {
   "cell_type": "code",
   "execution_count": 3,
   "metadata": {},
   "outputs": [],
   "source": [
    "def init_label(cluster_num):\n",
    "    label = np.zeros((height, width))\n",
    "    for k in range(0, height):\n",
    "        for j in range(0, width):\n",
    "            label[k][j] = int(random.randrange(0, cluster_num))\n",
    "    \n",
    "    return label"
   ]
  },
  {
   "attachments": {},
   "cell_type": "markdown",
   "metadata": {},
   "source": [
    "## Open image and read pixel data"
   ]
  },
  {
   "cell_type": "code",
   "execution_count": 42,
   "metadata": {},
   "outputs": [],
   "source": [
    "def open_image(image_name):\n",
    "    # load image\n",
    "    im = Image.open('butterfly.jpg')\n",
    "    \n",
    "    # Fetch image pixel data to numpy array\n",
    "    data = np.array(im)\n",
    "    \n",
    "    return data"
   ]
  },
  {
   "cell_type": "markdown",
   "metadata": {},
   "source": [
    "## calculate centroid (clustering image intensity)"
   ]
  },
  {
   "cell_type": "code",
   "execution_count": 122,
   "metadata": {},
   "outputs": [],
   "source": [
    "def cal_centroid(label, data, cluster_num):\n",
    "    clusters = np.zeros( (cluster_num, 3))\n",
    "    label_count = np.zeros( cluster_num )\n",
    "        \n",
    "    for x in range(height):\n",
    "        for y in range(width):\n",
    "            image_label = int(label[x][y])\n",
    "            clusters[image_label][0] += data[x][y][0]\n",
    "            clusters[image_label][1] += data[x][y][1]\n",
    "            clusters[image_label][2] += data[x][y][2]\n",
    "            \n",
    "            label_count[image_label] += 1\n",
    "    \n",
    "    for i in range(0, cluster_num):\n",
    "        clusters[i] /= label_count[i]\n",
    "    \n",
    "    clusters = inspect_duplicate_centroid(clusters, cluster_num)\n",
    "    return clusters"
   ]
  },
  {
   "cell_type": "code",
   "execution_count": 64,
   "metadata": {},
   "outputs": [],
   "source": [
    "def inspect_duplicate_centroid(image_centroid, cluster_num):\n",
    "    while True:\n",
    "        flag = 0\n",
    "        flag_list = []\n",
    "        for i in range(0, cluster_num):\n",
    "            for j in range(i+1, cluster_num):\n",
    "                temp_list = []\n",
    "                temp_list = abs(image_centroid[i] - image_centroid[j])\n",
    "\n",
    "                if temp_list[0] <= 0.35:\n",
    "                    flag_list.append([i,j])\n",
    "                elif temp_list[1] <= 0.35:\n",
    "                    flag_list.append([i,j])\n",
    "                elif temp_list[2] <= 0.35:\n",
    "                    flag_list.append([i,j])\n",
    "\n",
    "        if len(flag_list) == 0:\n",
    "            break\n",
    "        else:\n",
    "            for x in flag_list:\n",
    "                image_centroid[x[0]] -= 0.2\n",
    "\n",
    "    return image_centroid"
   ]
  },
  {
   "cell_type": "code",
   "execution_count": 107,
   "metadata": {},
   "outputs": [],
   "source": [
    "# centroid와 pixel간의 distance 구하기\n",
    "def cal_distance(label, data, image_centroid, numbers):\n",
    "    energy = 0\n",
    "    \n",
    "    row_num = numbers[0]\n",
    "    column_num = numbers[1]\n",
    "    cluster_num = numbers[2]\n",
    "    \n",
    "    for k in range(row_num):\n",
    "        for j in range(column_num):\n",
    "            L2_result = [0 for _ in range(cluster_num)]\n",
    "            for i in range(cluster_num):\n",
    "                temp = [0 for _ in range(3)]\n",
    "                temp_num = 0\n",
    "                temp += pow(image_centroid[i] - data[k][j], 2)\n",
    "                \n",
    "                for num in temp:\n",
    "                    temp_num += num\n",
    "                    \n",
    "                L2_result[i] += temp_num\n",
    "                \n",
    "            L2_result_arr = np.asfarray(L2_result[0:cluster_num])\n",
    "            label[k][j] = L2_result_arr.argmin()\n",
    "            energy += L2_result_arr.min()\n",
    "    \n",
    "    return label, energy"
   ]
  },
  {
   "cell_type": "code",
   "execution_count": 73,
   "metadata": {},
   "outputs": [],
   "source": [
    "def make_clustered_data(image_centroid, label):\n",
    "    clustered_data = np.zeros( (height, width, 3))\n",
    "    \n",
    "    for i in range(height):\n",
    "        for j in range(width):\n",
    "            # image의 라벨에 해당하는 centroid로 바꿔주기\n",
    "            clustered_data[i][j][0] = int(image_centroid[int(label[i][j])][0]) # red\n",
    "            clustered_data[i][j][1] = int(image_centroid[int(label[i][j])][1]) # green\n",
    "            clustered_data[i][j][2] = int(image_centroid[int(label[i][j])][2]) # blue\n",
    "    \n",
    "    return clustered_data"
   ]
  },
  {
   "cell_type": "code",
   "execution_count": 106,
   "metadata": {},
   "outputs": [],
   "source": [
    "def update_label_for_clustering_intensity(label, data, image_centroid, numbers):\n",
    "    label, energy = cal_distance(label, data, image_centroid, numbers)\n",
    "    \n",
    "    return label, energy"
   ]
  },
  {
   "cell_type": "code",
   "execution_count": 88,
   "metadata": {},
   "outputs": [],
   "source": [
    "def clustering_image_intensity(original_data, width, height, cluster_num):\n",
    "    print(\"------------start-------------\")\n",
    "    start_time = time.time()\n",
    "    '''\n",
    "    # initialize variable\n",
    "    energy = 0\n",
    "    prev_energy = 1000000\n",
    "    all_energy = []\n",
    "    all_iteration = []\n",
    "    cluster_count = 0\n",
    "    threshold = 0.0001\n",
    "    max_cluster = 300\n",
    "\n",
    "    copy_data = original_data.copy()\n",
    "\n",
    "    # calculate centroid each label\n",
    "    image_centroid = cal_centroid(label, copy_data, cluster_num)\n",
    "    \n",
    "    while(True):\n",
    "        label, energy = update_label_for_clustering_intensity(label, copy_data, image_centroid, width, height, cluster_num)\n",
    "        energy /= width * height\n",
    "        all_energy.append(energy)\n",
    "        all_iteration.append(cluster_count)\n",
    "\n",
    "        # energy의 차이가 아주 작아지면 clustering 멈추기\n",
    "        if prev_energy <= energy*(1 + threshold):\n",
    "            break\n",
    "        elif cluster_count >= max_cluster :\n",
    "            break\n",
    "        \n",
    "        else:\n",
    "            image_centroid = cal_centroid(label, copy_data, cluster_num)\n",
    "            prev_energy = energy\n",
    "            energy = 0\n",
    "            cluster_count += 1\n",
    "        \n",
    "        # debugging\n",
    "        if cluster_count % 30 == 0:\n",
    "            print(\"clustering: \", cluster_count)\n",
    "    '''\n",
    "   \n",
    "\n",
    "    clustered_data = make_clustered_data(image_centroid, label)\n",
    "\n",
    "    # np.float64 -> np.uint8\n",
    "    clustered_data = clustered_data.astype(np.uint8)\n",
    "\n",
    "    # plot enegy graph\n",
    "    energy_graph = plt.figure(\"Energy Graph\", figsize=(5,5))\n",
    "    energy_graph.add_subplot(1,1,1).plot(all_iteration, all_energy)\n",
    "\n",
    "    # plot\n",
    "    plt.show()\n",
    "\n",
    "    print(\"--- %s seconds ---\" %(time.time() - start_time))"
   ]
  },
  {
   "cell_type": "code",
   "execution_count": 136,
   "metadata": {},
   "outputs": [],
   "source": [
    "def clustering(cluster_num):\n",
    "    image_name = \"butterfly.jpg\"\n",
    "\n",
    "    original_data = open_image(image_name)\n",
    "    intensity_data = original_data.copy()\n",
    "    \n",
    "    image_shape = original_data.shape\n",
    "    importance_degree = 0\n",
    "    \n",
    "    # size of image\n",
    "    width = image_shape[0]\n",
    "    height = image_shape[1]\n",
    "    numbers=[height, width, cluster_num]\n",
    "    \n",
    "    # random label initialize\n",
    "    label = init_label(cluster_num)\n",
    "        \n",
    "    # x : horizontal list\n",
    "    # y : vertical list\n",
    "    # data : initialized data ( random label )\n",
    "    x, y = init_variable_for_clustering_location(height, width, cluster_num)\n",
    "\n",
    "    x_array = np.asfarray(x[0:height*width])\n",
    "    x_matrix = x_array.reshape((height, width))\n",
    "\n",
    "    y_array = np.asfarray(y[0:height*width])\n",
    "    y_matrix = y_array.reshape((height, width))\n",
    "    \n",
    "    \n",
    "    #######################\n",
    "    # initialize variable #\n",
    "    #######################\n",
    "    prev_energy = 1000000\n",
    "    intensity_energy = 0\n",
    "    location_energy = 0\n",
    "    total_energy = 0\n",
    "    all_energy = []\n",
    "    all_iteration = []\n",
    "    cluster_count = 0\n",
    "    threshold = 0.0001\n",
    "    max_cluster = 300\n",
    "    \n",
    "\n",
    "    #################################\n",
    "    # calculate centroid each label #\n",
    "    #################################\n",
    "    image_centroid = cal_centroid(label, intensity_data, cluster_num)\n",
    "    L2_centroid_x, L2_centroid_y = cal_centroid_L2(x_matrix, y_matrix, label, numbers)\n",
    "    \n",
    "    \n",
    "    while(True):\n",
    "        label, intensity_energy = update_label_for_clustering_intensity(label, intensity_data, image_centroid, numbers)\n",
    "        intensity_energy /= width * height\n",
    "        \n",
    "        location_energy, locationi_data = update_label_for_clustering_location(L2_centroid_x, L2_centroid_y, x_matrix, y_matrix, location_data, numbers)\n",
    "        location_energy /= row_num*column_num*cluster_num\n",
    "        \n",
    "        total_energy = intensity_energy + importance_degree * location_energy \n",
    "        \n",
    "        all_energy.append(total_energy)\n",
    "        all_iteration.append(cluster_count)\n",
    "        \n",
    "        # energy의 차이가 아주 작아지면 clustering 멈추기\n",
    "        if prev_energy <= energy*(1 + threshold):\n",
    "            break\n",
    "        elif cluster_count >= max_cluster :\n",
    "            break\n",
    "        \n",
    "        else:\n",
    "            image_centroid = cal_centroid(label, intensity_data, cluster_num)\n",
    "            L2_centroid_x, L2_centroid_y = cal_centroid_L2(x_matrix, y_matrix, location_data, numbers)\n",
    "            prev_energy = energy\n",
    "            total_energy = 0\n",
    "            cluster_count += 1\n",
    "        \n",
    "        # debugging\n",
    "        if cluster_count % 30 == 0:\n",
    "            print(\"clustering: \", cluster_count)"
   ]
  },
  {
   "cell_type": "code",
   "execution_count": 133,
   "metadata": {},
   "outputs": [
    {
     "ename": "NameError",
     "evalue": "name 'row_num' is not defined",
     "output_type": "error",
     "traceback": [
      "\u001b[1;31m---------------------------------------------------------------------------\u001b[0m",
      "\u001b[1;31mNameError\u001b[0m                                 Traceback (most recent call last)",
      "\u001b[1;32m<ipython-input-133-21fa18c36915>\u001b[0m in \u001b[0;36m<module>\u001b[1;34m\u001b[0m\n\u001b[1;32m----> 1\u001b[1;33m \u001b[0mclustering\u001b[0m\u001b[1;33m(\u001b[0m\u001b[1;36m5\u001b[0m\u001b[1;33m)\u001b[0m\u001b[1;33m\u001b[0m\u001b[1;33m\u001b[0m\u001b[0m\n\u001b[0m",
      "\u001b[1;32m<ipython-input-132-6ad804a16339>\u001b[0m in \u001b[0;36mclustering\u001b[1;34m(cluster_num)\u001b[0m\n\u001b[0;32m     57\u001b[0m \u001b[1;33m\u001b[0m\u001b[0m\n\u001b[0;32m     58\u001b[0m         \u001b[0mlocation_energy\u001b[0m\u001b[1;33m,\u001b[0m \u001b[0mlocation_data\u001b[0m \u001b[1;33m=\u001b[0m \u001b[0mupdate_label_for_clustering_location\u001b[0m\u001b[1;33m(\u001b[0m\u001b[0mL2_centroid_x\u001b[0m\u001b[1;33m,\u001b[0m \u001b[0mL2_centroid_y\u001b[0m\u001b[1;33m,\u001b[0m \u001b[0mx_matrix\u001b[0m\u001b[1;33m,\u001b[0m \u001b[0my_matrix\u001b[0m\u001b[1;33m,\u001b[0m \u001b[0mlocation_data\u001b[0m\u001b[1;33m,\u001b[0m \u001b[0mnumbers\u001b[0m\u001b[1;33m)\u001b[0m\u001b[1;33m\u001b[0m\u001b[1;33m\u001b[0m\u001b[0m\n\u001b[1;32m---> 59\u001b[1;33m         \u001b[0mlocation_energy\u001b[0m \u001b[1;33m/=\u001b[0m \u001b[0mrow_num\u001b[0m\u001b[1;33m*\u001b[0m\u001b[0mcolumn_num\u001b[0m\u001b[1;33m*\u001b[0m\u001b[0mcluster_num\u001b[0m\u001b[1;33m\u001b[0m\u001b[1;33m\u001b[0m\u001b[0m\n\u001b[0m\u001b[0;32m     60\u001b[0m \u001b[1;33m\u001b[0m\u001b[0m\n\u001b[0;32m     61\u001b[0m         \u001b[0mtotal_energy\u001b[0m \u001b[1;33m=\u001b[0m \u001b[0mintensity_energy\u001b[0m \u001b[1;33m+\u001b[0m \u001b[0mimportance_degree\u001b[0m \u001b[1;33m*\u001b[0m \u001b[0mlocation_energy\u001b[0m\u001b[1;33m\u001b[0m\u001b[1;33m\u001b[0m\u001b[0m\n",
      "\u001b[1;31mNameError\u001b[0m: name 'row_num' is not defined"
     ]
    }
   ],
   "source": [
    "clustering(5)"
   ]
  },
  {
   "cell_type": "code",
   "execution_count": null,
   "metadata": {},
   "outputs": [],
   "source": []
  }
 ],
 "metadata": {
  "kernelspec": {
   "display_name": "Python 3",
   "language": "python",
   "name": "python3"
  },
  "language_info": {
   "codemirror_mode": {
    "name": "ipython",
    "version": 3
   },
   "file_extension": ".py",
   "mimetype": "text/x-python",
   "name": "python",
   "nbconvert_exporter": "python",
   "pygments_lexer": "ipython3",
   "version": "3.6.7"
  }
 },
 "nbformat": 4,
 "nbformat_minor": 2
}
