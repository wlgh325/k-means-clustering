{
 "cells": [
  {
   "cell_type": "markdown",
   "metadata": {},
   "source": [
    "# 20146703 박지호"
   ]
  },
  {
   "cell_type": "markdown",
   "metadata": {},
   "source": [
    "## Assignment 7"
   ]
  },
  {
   "cell_type": "markdown",
   "metadata": {},
   "source": [
    "input으로 image를 하나 선택, k-means algorithm을 적용. 클러스터의 수와 intensity energy와 spatial energy 사이의 trade-off 고려\n",
    "\n",
    "object function은 다음과 같다\n",
    "\n",
    "$$ \\sum_k \\sum_\\{ x \\in I(k) \\} [ \\| f(x) - m_k \\|^2 + a * \\| x - c_k \\|^2 ] $$\n",
    "\n",
    "l(k): cluster k에 속하는 x의 index set\n",
    "\n",
    "m_k: cluster k에 대한 image intensity의 centroid\n",
    "\n",
    "c_k: cluster k에 대한 spatial location의 centroid\n",
    "\n",
    "a: image intensity와 spatial location 사이의 중요성을 결정\n",
    "\n",
    "1. 클러스터링된 결과를 visualization하기 (k를 다양하게 해보기, 클러스터마다 centroid color를 이용해서\n",
    "\n",
    "2. intensity energy graph와 spatial energy graph를 visualization하기\n"
   ]
  },
  {
   "cell_type": "code",
   "execution_count": null,
   "metadata": {},
   "outputs": [],
   "source": []
  }
 ],
 "metadata": {
  "kernelspec": {
   "display_name": "Python 3",
   "language": "python",
   "name": "python3"
  },
  "language_info": {
   "codemirror_mode": {
    "name": "ipython",
    "version": 3
   },
   "file_extension": ".py",
   "mimetype": "text/x-python",
   "name": "python",
   "nbconvert_exporter": "python",
   "pygments_lexer": "ipython3",
   "version": "3.6.7"
  }
 },
 "nbformat": 4,
 "nbformat_minor": 2
}
